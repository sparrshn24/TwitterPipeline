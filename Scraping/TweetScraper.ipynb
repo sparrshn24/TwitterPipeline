{
 "cells": [
  {
   "cell_type": "code",
   "execution_count": 1,
   "id": "2c8c8a97",
   "metadata": {},
   "outputs": [],
   "source": [
    "import numpy as np"
   ]
  },
  {
   "cell_type": "code",
   "execution_count": 2,
   "id": "76616c11",
   "metadata": {},
   "outputs": [],
   "source": [
    "import pandas as pd"
   ]
  },
  {
   "cell_type": "code",
   "execution_count": 3,
   "id": "1dffb759",
   "metadata": {},
   "outputs": [
    {
     "name": "stdout",
     "output_type": "stream",
     "text": [
      "Requirement already satisfied: twint in c:\\windows\\system32\\src\\twint (2.1.21)\n",
      "Requirement already satisfied: aiohttp in c:\\users\\sparr\\appdata\\roaming\\python\\python39\\site-packages (from twint) (3.8.1)\n",
      "Requirement already satisfied: aiodns in c:\\users\\sparr\\appdata\\roaming\\python\\python39\\site-packages (from twint) (3.0.0)\n",
      "Requirement already satisfied: beautifulsoup4 in c:\\users\\sparr\\appdata\\roaming\\python\\python39\\site-packages (from twint) (4.11.1)\n",
      "Requirement already satisfied: cchardet in c:\\users\\sparr\\appdata\\roaming\\python\\python39\\site-packages (from twint) (2.1.7)\n",
      "Requirement already satisfied: dataclasses in c:\\users\\sparr\\appdata\\roaming\\python\\python39\\site-packages (from twint) (0.6)\n",
      "Requirement already satisfied: elasticsearch in c:\\users\\sparr\\appdata\\roaming\\python\\python39\\site-packages (from twint) (8.1.2)\n",
      "Requirement already satisfied: pysocks in c:\\users\\sparr\\appdata\\roaming\\python\\python39\\site-packages (from twint) (1.7.1)\n",
      "Requirement already satisfied: pandas in c:\\users\\sparr\\appdata\\roaming\\python\\python39\\site-packages (from twint) (1.4.2)\n",
      "Requirement already satisfied: aiohttp_socks in c:\\users\\sparr\\appdata\\roaming\\python\\python39\\site-packages (from twint) (0.7.1)\n",
      "Requirement already satisfied: schedule in c:\\users\\sparr\\appdata\\roaming\\python\\python39\\site-packages (from twint) (1.1.0)\n",
      "Requirement already satisfied: geopy in c:\\users\\sparr\\appdata\\roaming\\python\\python39\\site-packages (from twint) (2.2.0)\n",
      "Requirement already satisfied: fake-useragent in c:\\users\\sparr\\appdata\\roaming\\python\\python39\\site-packages (from twint) (0.1.11)\n",
      "Requirement already satisfied: googletransx in c:\\users\\sparr\\appdata\\roaming\\python\\python39\\site-packages (from twint) (2.4.2)\n",
      "Requirement already satisfied: pycares>=4.0.0 in c:\\users\\sparr\\appdata\\roaming\\python\\python39\\site-packages (from aiodns->twint) (4.1.2)\n",
      "Requirement already satisfied: cffi>=1.5.0 in c:\\users\\sparr\\appdata\\roaming\\python\\python39\\site-packages (from pycares>=4.0.0->aiodns->twint) (1.15.0)\n",
      "Requirement already satisfied: pycparser in c:\\users\\sparr\\appdata\\roaming\\python\\python39\\site-packages (from cffi>=1.5.0->pycares>=4.0.0->aiodns->twint) (2.21)\n",
      "Requirement already satisfied: yarl<2.0,>=1.0 in c:\\users\\sparr\\appdata\\roaming\\python\\python39\\site-packages (from aiohttp->twint) (1.7.2)\n",
      "Requirement already satisfied: async-timeout<5.0,>=4.0.0a3 in c:\\users\\sparr\\appdata\\roaming\\python\\python39\\site-packages (from aiohttp->twint) (4.0.2)\n",
      "Requirement already satisfied: aiosignal>=1.1.2 in c:\\users\\sparr\\appdata\\roaming\\python\\python39\\site-packages (from aiohttp->twint) (1.2.0)\n",
      "Requirement already satisfied: multidict<7.0,>=4.5 in c:\\users\\sparr\\appdata\\roaming\\python\\python39\\site-packages (from aiohttp->twint) (6.0.2)\n",
      "Requirement already satisfied: frozenlist>=1.1.1 in c:\\users\\sparr\\appdata\\roaming\\python\\python39\\site-packages (from aiohttp->twint) (1.3.0)\n",
      "Requirement already satisfied: attrs>=17.3.0 in c:\\users\\sparr\\appdata\\roaming\\python\\python39\\site-packages (from aiohttp->twint) (21.4.0)\n",
      "Requirement already satisfied: charset-normalizer<3.0,>=2.0 in c:\\users\\sparr\\anaconda3\\lib\\site-packages (from aiohttp->twint) (2.0.4)\n",
      "Requirement already satisfied: idna>=2.0 in c:\\users\\sparr\\anaconda3\\lib\\site-packages (from yarl<2.0,>=1.0->aiohttp->twint) (3.3)\n",
      "Requirement already satisfied: python-socks[asyncio]<3.0.0,>=2.0.0 in c:\\users\\sparr\\appdata\\roaming\\python\\python39\\site-packages (from aiohttp_socks->twint) (2.0.3)\n",
      "Requirement already satisfied: soupsieve>1.2 in c:\\users\\sparr\\appdata\\roaming\\python\\python39\\site-packages (from beautifulsoup4->twint) (2.3.2)\n",
      "Requirement already satisfied: elastic-transport<9,>=8 in c:\\users\\sparr\\appdata\\roaming\\python\\python39\\site-packages (from elasticsearch->twint) (8.1.1)\n",
      "Requirement already satisfied: certifi in c:\\users\\sparr\\anaconda3\\lib\\site-packages (from elastic-transport<9,>=8->elasticsearch->twint) (2021.10.8)\n",
      "Requirement already satisfied: urllib3<2,>=1.26.2 in c:\\users\\sparr\\anaconda3\\lib\\site-packages (from elastic-transport<9,>=8->elasticsearch->twint) (1.26.9)\n",
      "Requirement already satisfied: geographiclib<2,>=1.49 in c:\\users\\sparr\\appdata\\roaming\\python\\python39\\site-packages (from geopy->twint) (1.52)\n",
      "Requirement already satisfied: requests in c:\\users\\sparr\\anaconda3\\lib\\site-packages (from googletransx->twint) (2.27.1)\n",
      "Requirement already satisfied: numpy>=1.18.5 in c:\\users\\sparr\\appdata\\roaming\\python\\python39\\site-packages (from pandas->twint) (1.22.3)\n",
      "Requirement already satisfied: pytz>=2020.1 in c:\\users\\sparr\\anaconda3\\lib\\site-packages (from pandas->twint) (2021.3)\n",
      "Requirement already satisfied: python-dateutil>=2.8.1 in c:\\users\\sparr\\appdata\\roaming\\python\\python39\\site-packages (from pandas->twint) (2.8.2)\n",
      "Requirement already satisfied: six>=1.5 in c:\\users\\sparr\\appdata\\roaming\\python\\python39\\site-packages (from python-dateutil>=2.8.1->pandas->twint) (1.16.0)\n",
      "Note: you may need to restart the kernel to use updated packages.\n"
     ]
    }
   ],
   "source": [
    "pip install twint"
   ]
  },
  {
   "cell_type": "code",
   "execution_count": 4,
   "id": "f6416374",
   "metadata": {},
   "outputs": [],
   "source": [
    "import twint"
   ]
  },
  {
   "cell_type": "code",
   "execution_count": 5,
   "id": "01663f06",
   "metadata": {},
   "outputs": [],
   "source": [
    "from datetime import datetime, timedelta"
   ]
  },
  {
   "cell_type": "code",
   "execution_count": 6,
   "id": "b60a4a6f",
   "metadata": {},
   "outputs": [],
   "source": [
    "twint_config = twint.Config()"
   ]
  },
  {
   "cell_type": "code",
   "execution_count": 7,
   "id": "ce4e0a87",
   "metadata": {},
   "outputs": [],
   "source": [
    "today = datetime.now().date()"
   ]
  },
  {
   "cell_type": "code",
   "execution_count": 8,
   "id": "8086d622",
   "metadata": {},
   "outputs": [],
   "source": [
    "start_date = today - timedelta(days=30)"
   ]
  },
  {
   "cell_type": "code",
   "execution_count": 9,
   "id": "7a23b2cb",
   "metadata": {},
   "outputs": [],
   "source": [
    "end_date = today"
   ]
  },
  {
   "cell_type": "code",
   "execution_count": 12,
   "id": "506f54fe",
   "metadata": {},
   "outputs": [],
   "source": [
    "twint_config.Since = start_date.strftime(\"%Y-%m-%d\")"
   ]
  },
  {
   "cell_type": "code",
   "execution_count": null,
   "id": "a610cc4d",
   "metadata": {},
   "outputs": [],
   "source": []
  }
 ],
 "metadata": {
  "kernelspec": {
   "display_name": "Python 3 (ipykernel)",
   "language": "python",
   "name": "python3"
  },
  "language_info": {
   "codemirror_mode": {
    "name": "ipython",
    "version": 3
   },
   "file_extension": ".py",
   "mimetype": "text/x-python",
   "name": "python",
   "nbconvert_exporter": "python",
   "pygments_lexer": "ipython3",
   "version": "3.9.12"
  }
 },
 "nbformat": 4,
 "nbformat_minor": 5
}
